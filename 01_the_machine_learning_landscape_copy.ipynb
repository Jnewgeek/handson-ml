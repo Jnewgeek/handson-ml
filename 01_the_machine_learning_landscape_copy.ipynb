{
 "cells": [
  {
   "cell_type": "code",
   "execution_count": 73,
   "metadata": {},
   "outputs": [],
   "source": [
    "# 兼容Python2 和 Python3\n",
    "from __future__ import division,print_function,unicode_literals\n",
    "\n",
    "import os\n",
    "import matplotlib.pyplot as plt\n",
    "import matplotlib as mpl\n",
    "import numpy as np\n",
    "import pandas as pd\n",
    "import warnings\n",
    "warnings.filterwarnings(action=\"ignore\",message=\"^internal gelsd\")\n",
    "\n",
    "# 设置绘图参数\n",
    "mpl.rc(\"axes\",labelsize=14)\n",
    "mpl.rc(\"xtick\",labelsize=12)\n",
    "mpl.rc(\"ytick\",labelsize=12)\n",
    "plt.rcParams[\"font.sans-serif\"]=[\"SimHei\"]\n",
    "plt.rcParams[\"axes.unicode_minus\"]=False\n",
    "\n",
    "# 设置图片存储路径\n",
    "PROJECT_ROOT_DIR = \".\"\n",
    "CHAPTER_ID = \"fundamentals\"\n",
    "\n",
    "# 存储图片函数\n",
    "def save_fig(fig_id,tight_layout=True):\n",
    "    path=os.path.join(PROJECT_ROOT_DIR,\"images\",CHAPTER_ID,fig_id+\".png\")\n",
    "    print(\"Saving figure %s\"%fig_id)\n",
    "    if tight_layout:\n",
    "        plt.tight_layout()\n",
    "    plt.savefig(path,format=\"png\",dpi=300)"
   ]
  },
  {
   "cell_type": "code",
   "execution_count": 63,
   "metadata": {},
   "outputs": [
    {
     "name": "stdout",
     "output_type": "stream",
     "text": [
      "< 线性回归 > GDP: 22587 —————> Life satisfaction：5.96\n",
      "< KNN近邻 > GDP: 22587 —————> Life satisfaction：5.58\n"
     ]
    },
    {
     "data": {
      "image/png": "[encoded data removed]",
      "text/plain": [
       "<Figure size 432x288 with 1 Axes>"
      ]
     },
     "metadata": {
      "needs_background": "light"
     },
     "output_type": "display_data"
    }
   ],
   "source": [
    "# 导入线性回归模块\n",
    "import copy\n",
    "from sklearn.linear_model import LinearRegression as LR\n",
    "from sklearn.neighbors import KNeighborsRegressor as KNN\n",
    "\n",
    "# load data\n",
    "datapath = os.path.join(\"datasets\", \"lifesat\", \"\")\n",
    "oecd_bli = pd.read_csv(datapath + \"oecd_bli_2015.csv\", thousands=',')\n",
    "gdp_per_capita = pd.read_csv(datapath + \"gdp_per_capita.csv\",thousands=',',delimiter='\\t',\n",
    "                             encoding='latin1', na_values=\"n/a\")\n",
    "\n",
    "# connect the two dataframe\n",
    "def prepare_country_stats(select=\"keep\",oecd=oecd_bli.copy(), gdp=gdp_per_capita.copy()):\n",
    "    if select.lower() not in [\"keep\",\"remove\",\"full\"]:\n",
    "        raise ValueError(\"prepare_country_stats(select,*karg), select must be in ('keep','remove','full') !\")\n",
    "    oecd=pd.pivot_table(oecd[oecd[\"INEQUALITY\"]==\"TOT\"],columns=\"Indicator\",index=\"Country\",values=\"Value\")\n",
    "    gdp.rename(columns={\"2015\": \"GDP per capita\"}, inplace=True)\n",
    "    gdp.set_index(\"Country\",inplace=True)\n",
    "    # 连表\n",
    "    full_country_stats = pd.merge(left=oecd, right=gdp,\n",
    "                                  left_index=True, right_index=True).sort_values(by=\"GDP per capita\")\n",
    "    remove_indices=[0, 1, 6, 8, 33, 34, 35]\n",
    "    keep_indices=list(set(range(36))-set(remove_indices))\n",
    "    if select.lower()==\"keep\":\n",
    "        return full_country_stats[[\"GDP per capita\",\"Life satisfaction\"]].iloc[keep_indices]\n",
    "    elif select.lower()==\"remove\":\n",
    "        return full_country_stats[[\"GDP per capita\",\"Life satisfaction\"]].iloc[remove_indices]\n",
    "    else:\n",
    "        return full_country_stats[[\"GDP per capita\",\"Life satisfaction\"]]\n",
    "\n",
    "country_stats = prepare_country_stats()\n",
    "# set model data\n",
    "X=np.c_[country_stats[\"GDP per capita\"]]\n",
    "y=np.c_[country_stats[\"Life satisfaction\"]]\n",
    "\n",
    "%matplotlib inline\n",
    "country_stats.plot(kind=\"scatter\",x=\"GDP per capita\",y=\"Life satisfaction\")\n",
    "\n",
    "# 训练模型\n",
    "model=LR()\n",
    "model.fit(X,y)\n",
    "\n",
    "# 预测新值\n",
    "X_new=[[22587]]\n",
    "print(\"< 线性回归 > GDP: %d —————> Life satisfaction：%.2f\"%(X_new[0][0],model.predict(X_new)[0][0]))\n",
    "\n",
    "# k近邻算法\n",
    "clf=KNN()\n",
    "clf.fit(X,y)\n",
    "print(\"< KNN近邻 > GDP: %d —————> Life satisfaction：%.2f\"%(X_new[0][0],clf.predict(X_new)[0][0]))"
   ]
  },
  {
   "cell_type": "code",
   "execution_count": 67,
   "metadata": {
    "scrolled": true
   },
   "outputs": [
    {
     "data": {
      "text/html": [
       "<div>\n",
       "<style scoped>\n",
       "    .dataframe tbody tr th:only-of-type {\n",
       "        vertical-align: middle;\n",
       "    }\n",
       "\n",
       "    .dataframe tbody tr th {\n",
       "        vertical-align: top;\n",
       "    }\n",
       "\n",
       "    .dataframe thead th {\n",
       "        text-align: right;\n",
       "    }\n",
       "</style>\n",
       "<table border=\"1\" class=\"dataframe\">\n",
       "  <thead>\n",
       "    <tr style=\"text-align: right;\">\n",
       "      <th></th>\n",
       "      <th>GDP per capita</th>\n",
       "      <th>Life satisfaction</th>\n",
       "    </tr>\n",
       "    <tr>\n",
       "      <th>Country</th>\n",
       "      <th></th>\n",
       "      <th></th>\n",
       "    </tr>\n",
       "  </thead>\n",
       "  <tbody>\n",
       "    <tr>\n",
       "      <th>Brazil</th>\n",
       "      <td>8669.998</td>\n",
       "      <td>7.0</td>\n",
       "    </tr>\n",
       "    <tr>\n",
       "      <th>Mexico</th>\n",
       "      <td>9009.280</td>\n",
       "      <td>6.7</td>\n",
       "    </tr>\n",
       "    <tr>\n",
       "      <th>Russia</th>\n",
       "      <td>9054.914</td>\n",
       "      <td>6.0</td>\n",
       "    </tr>\n",
       "    <tr>\n",
       "      <th>Turkey</th>\n",
       "      <td>9437.372</td>\n",
       "      <td>5.6</td>\n",
       "    </tr>\n",
       "    <tr>\n",
       "      <th>Hungary</th>\n",
       "      <td>12239.894</td>\n",
       "      <td>4.9</td>\n",
       "    </tr>\n",
       "  </tbody>\n",
       "</table>\n",
       "</div>"
      ],
      "text/plain": [
       "         GDP per capita  Life satisfaction\n",
       "Country                                   \n",
       "Brazil         8669.998                7.0\n",
       "Mexico         9009.280                6.7\n",
       "Russia         9054.914                6.0\n",
       "Turkey         9437.372                5.6\n",
       "Hungary       12239.894                4.9"
      ]
     },
     "execution_count": 67,
     "metadata": {},
     "output_type": "execute_result"
    }
   ],
   "source": [
    "full_country_stats=prepare_country_stats(\"full\",oecd_bli.copy(),gdp_per_capita.copy())\n",
    "\n",
    "# 分割数据\n",
    "remove_indices=[0, 1, 6, 8, 33, 34, 35]\n",
    "keep_indices=list(set(range(36))-set(remove_indices))\n",
    "\n",
    "sample_data=full_country_stats.iloc[keep_indices]\n",
    "miss_data=full_country_stats.iloc[remove_indices]\n",
    "\n",
    "full_country_stats.head()"
   ]
  },
  {
   "cell_type": "code",
   "execution_count": 74,
   "metadata": {},
   "outputs": [
    {
     "name": "stdout",
     "output_type": "stream",
     "text": [
      "Saving figure money_happy_scatterplot\n"
     ]
    },
    {
     "data": {
      "image/png": "[encoded data removed]",
      "text/plain": [
       "<Figure size 360x216 with 1 Axes>"
      ]
     },
     "metadata": {
      "needs_background": "light"
     },
     "output_type": "display_data"
    }
   ],
   "source": [
    "# 绘图\n",
    "sample_data.plot(kind=\"scatter\",x=\"GDP per capita\",y=\"Life satisfaction\",figsize=(5,3))\n",
    "plt.axis([0,60000,0,10])\n",
    "position_text = {\n",
    "    \"Hungary\": (5000, 1),\n",
    "    \"Korea\": (18000, 1.7),\n",
    "    \"France\": (29000, 2.4),\n",
    "    \"Australia\": (40000, 3.0),\n",
    "    \"United States\": (52000, 3.8),\n",
    "}\n",
    "for country, pos_text in position_text.items():\n",
    "    pos_data_x, pos_data_y = sample_data.loc[country]\n",
    "    country = \"U.S.\" if country == \"United States\" else country\n",
    "    plt.annotate(country, xy=(pos_data_x, pos_data_y), xytext=pos_text,\n",
    "            arrowprops=dict(facecolor='black', width=0.5, shrink=0.1, headwidth=5))\n",
    "    plt.plot(pos_data_x, pos_data_y, \"ro\")\n",
    "save_fig('money_happy_scatterplot')"
   ]
  },
  {
   "cell_type": "code",
   "execution_count": 75,
   "metadata": {},
   "outputs": [],
   "source": [
    "sample_data.to_csv(os.path.join(\"datasets\", \"lifesat\", \"lifesat.csv\"))"
   ]
  },
  {
   "cell_type": "code",
   "execution_count": null,
   "metadata": {},
   "outputs": [],
   "source": []
  }
 ],
 "metadata": {
  "kernelspec": {
   "display_name": "Python 3",
   "language": "python",
   "name": "python3"
  },
  "language_info": {
   "codemirror_mode": {
    "name": "ipython",
    "version": 3
   },
   "file_extension": ".py",
   "mimetype": "text/x-python",
   "name": "python",
   "nbconvert_exporter": "python",
   "pygments_lexer": "ipython3",
   "version": "3.7.3"
  }
 },
 "nbformat": 4,
 "nbformat_minor": 2
}
